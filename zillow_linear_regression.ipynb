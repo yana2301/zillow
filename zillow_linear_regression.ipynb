{
 "cells": [
  {
   "cell_type": "code",
   "execution_count": 65,
   "metadata": {},
   "outputs": [],
   "source": [
    "import pandas as pd\n",
    "import numpy as np\n",
    "from sklearn import linear_model\n",
    "import matplotlib.pyplot as plt\n",
    "import statsmodels.api as sm\n",
    "from scipy import stats\n"
   ]
  },
  {
   "cell_type": "code",
   "execution_count": 66,
   "metadata": {},
   "outputs": [
    {
     "name": "stderr",
     "output_type": "stream",
     "text": [
      "C:\\Users\\Iana_Bondarska\\AppData\\Local\\Continuum\\anaconda3\\lib\\site-packages\\IPython\\core\\interactiveshell.py:2728: DtypeWarning: Columns (22) have mixed types. Specify dtype option on import or set low_memory=False.\n",
      "  interactivity=interactivity, compiler=compiler, result=result)\n"
     ]
    }
   ],
   "source": [
    "# load and clean data\n",
    "df = pd.read_csv('properties_short.csv')\n",
    "df = df[(df['yearbuilt'].notnull()\n",
    "        & (df['regionidcity'].notnull())\n",
    "        & (df['regionidcity'].notnull())\n",
    "        & (df['taxvaluedollarcnt'].notnull()))\n",
    "        & (df['landtaxvaluedollarcnt'].notnull())]\n",
    "         "
   ]
  },
  {
   "cell_type": "code",
   "execution_count": 67,
   "metadata": {},
   "outputs": [],
   "source": [
    "# fill na values for some features\n",
    "df.drop(columns = 'parcelid', inplace = True)\n",
    "df['calculatedbathnbr'].fillna(1, inplace = True)\n",
    "\n",
    "df['poolcnt'].fillna(0, inplace = True)\n",
    "\n",
    "df['fireplacecnt'].fillna(0, inplace = True)\n",
    "\n",
    "df['garagecarcnt'].fillna(0, inplace = True)\n",
    "\n",
    "df['garagetotalsqft'].fillna(0, inplace = True)\n",
    "\n",
    "df['poolsizesum'].fillna(0, inplace = True)\n",
    "\n",
    "df['roomcnt'].fillna(1, inplace = True)\n",
    "\n",
    "df['finishedsquarefeet12'].fillna(0, inplace = True)\n",
    "\n",
    "df['yardbuildingsqft17'].fillna(0, inplace = True)\n",
    "\n",
    "df['calculatedfinishedsquarefeet'].fillna(0, inplace = True)\n",
    "df['age'] = 2018 - df['yearbuilt']\n",
    "df = df[df['assessmentyear']==2016]\n",
    "df.replace({'heatingorsystemtypeid':{2.0: 'central', 7.0:'floor_wall', 20.0: 'solar'}}, inplace=True)\n",
    "# create categorical variables\n",
    "df = pd.get_dummies(df, columns =['heatingorsystemtypeid'])"
   ]
  },
  {
   "cell_type": "code",
   "execution_count": 85,
   "metadata": {},
   "outputs": [
    {
     "name": "stdout",
     "output_type": "stream",
     "text": [
      "                                  taxvaluedollarcnt\n",
      "taxvaluedollarcnt                          1.000000\n",
      "taxamount                                  0.993771\n",
      "landtaxvaluedollarcnt                      0.957581\n",
      "structuretaxvaluedollarcnt                 0.844576\n",
      "calculatedfinishedsquarefeet               0.579342\n",
      "finishedsquarefeet12                       0.564494\n",
      "fullbathcnt                                0.479053\n",
      "calculatedbathnbr                          0.478685\n",
      "bathroomcnt                                0.477875\n",
      "buildingqualitytypeid                      0.373079\n",
      "finishedsquarefeet15                       0.340826\n",
      "bedroomcnt                                 0.247530\n",
      "poolcnt                                    0.196325\n",
      "heatingorsystemtypeid_central              0.185765\n",
      "taxdelinquencyyear                         0.102811\n",
      "yearbuilt                                  0.100217\n",
      "regionidneighborhood                       0.048459\n",
      "heatingorsystemtypeid_solar                0.017115\n",
      "regionidzip                                0.016815\n",
      "airconditioningtypeid                      0.004535\n",
      "propertylandusetypeid                      0.002688\n",
      "garagecarcnt                              -0.001158\n",
      "unitcnt                                   -0.004773\n",
      "lotsizesquarefeet                         -0.005168\n",
      "censustractandblock                       -0.017170\n",
      "rawcensustractandblock                    -0.027777\n",
      "regionidcity                              -0.033700\n",
      "latitude                                  -0.049051\n",
      "age                                       -0.100217\n",
      "longitude                                 -0.176336\n",
      "heatingorsystemtypeid_floor_wall          -0.187279\n",
      "architecturalstyletypeid                        NaN\n",
      "basementsqft                                    NaN\n",
      "buildingclasstypeid                             NaN\n",
      "decktypeid                                      NaN\n",
      "finishedfloor1squarefeet                        NaN\n",
      "finishedsquarefeet13                            NaN\n",
      "finishedsquarefeet50                            NaN\n",
      "finishedsquarefeet6                             NaN\n",
      "fips                                            NaN\n",
      "fireplacecnt                                    NaN\n",
      "garagetotalsqft                                 NaN\n",
      "poolsizesum                                     NaN\n",
      "pooltypeid10                                    NaN\n",
      "pooltypeid2                                     NaN\n",
      "pooltypeid7                                     NaN\n",
      "regionidcounty                                  NaN\n",
      "roomcnt                                         NaN\n",
      "storytypeid                                     NaN\n",
      "threequarterbathnbr                             NaN\n",
      "typeconstructiontypeid                          NaN\n",
      "yardbuildingsqft17                              NaN\n",
      "yardbuildingsqft26                              NaN\n",
      "numberofstories                                 NaN\n",
      "fireplaceflag                                   NaN\n",
      "assessmentyear                                  NaN\n"
     ]
    }
   ],
   "source": [
    "correlation_df = df.corr()[['taxvaluedollarcnt']]\n",
    "correlation_df = correlation_df.sort_values(by = ['taxvaluedollarcnt'], ascending=False )\n",
    "print(correlation_df.head(100))\n",
    "\n",
    "predictor_properties =  ['landtaxvaluedollarcnt', 'calculatedfinishedsquarefeet', 'fullbathcnt',  'bedroomcnt', 'age',  'poolcnt','heatingorsystemtypeid_central','heatingorsystemtypeid_floor_wall']\n",
    "estimated_variable = ['taxvaluedollarcnt']\n"
   ]
  },
  {
   "cell_type": "code",
   "execution_count": 88,
   "metadata": {},
   "outputs": [],
   "source": [
    "# select predictors \n",
    "dataset = df[predictor_properties + estimated_variable]\n",
    "dataset = dataset.dropna(how = 'any')\n",
    "\n",
    "predictors = dataset[predictor_properties]\n",
    "estimated_price = dataset[['taxvaluedollarcnt']]"
   ]
  },
  {
   "cell_type": "code",
   "execution_count": 89,
   "metadata": {},
   "outputs": [],
   "source": [
    "#create linear regression\n",
    "from sklearn.model_selection import train_test_split\n",
    "X_train, X_test,y_train, y_test = train_test_split(predictors, estimated_price)"
   ]
  },
  {
   "cell_type": "code",
   "execution_count": 90,
   "metadata": {},
   "outputs": [
    {
     "name": "stdout",
     "output_type": "stream",
     "text": [
      "                            OLS Regression Results                            \n",
      "==============================================================================\n",
      "Dep. Variable:      taxvaluedollarcnt   R-squared:                       0.950\n",
      "Model:                            OLS   Adj. R-squared:                  0.950\n",
      "Method:                 Least Squares   F-statistic:                 3.518e+05\n",
      "Date:                Fri, 02 Mar 2018   Prob (F-statistic):               0.00\n",
      "Time:                        14:26:04   Log-Likelihood:            -1.9273e+06\n",
      "No. Observations:              146909   AIC:                         3.855e+06\n",
      "Df Residuals:                  146900   BIC:                         3.855e+06\n",
      "Df Model:                           8                                         \n",
      "Covariance Type:            nonrobust                                         \n",
      "====================================================================================================\n",
      "                                       coef    std err          t      P>|t|      [0.025      0.975]\n",
      "----------------------------------------------------------------------------------------------------\n",
      "const                             5.087e+04   8358.161      6.086      0.000    3.45e+04    6.73e+04\n",
      "landtaxvaluedollarcnt                1.2191      0.001   1305.155      0.000       1.217       1.221\n",
      "calculatedfinishedsquarefeet       117.1791      0.675    173.660      0.000     115.857     118.502\n",
      "fullbathcnt                       1.539e+04    597.730     25.748      0.000    1.42e+04    1.66e+04\n",
      "bedroomcnt                       -2.395e+04    416.481    -57.515      0.000   -2.48e+04   -2.31e+04\n",
      "age                              -1367.2020     17.525    -78.012      0.000   -1401.552   -1332.852\n",
      "poolcnt                           1.522e+04    816.529     18.638      0.000    1.36e+04    1.68e+04\n",
      "heatingorsystemtypeid_central    -2.931e+04   8241.290     -3.557      0.000   -4.55e+04   -1.32e+04\n",
      "heatingorsystemtypeid_floor_wall -6700.0983   8281.843     -0.809      0.419   -2.29e+04    9532.150\n",
      "==============================================================================\n",
      "Omnibus:                   338946.772   Durbin-Watson:                   1.991\n",
      "Prob(Omnibus):                  0.000   Jarque-Bera (JB):      23375730527.574\n",
      "Skew:                          21.644   Prob(JB):                         0.00\n",
      "Kurtosis:                    1956.698   Cond. No.                     2.09e+07\n",
      "==============================================================================\n",
      "\n",
      "Warnings:\n",
      "[1] Standard Errors assume that the covariance matrix of the errors is correctly specified.\n",
      "[2] The condition number is large, 2.09e+07. This might indicate that there are\n",
      "strong multicollinearity or other numerical problems.\n"
     ]
    }
   ],
   "source": [
    "X_train_OLS = sm.add_constant(X_train)\n",
    "est = sm.OLS(y_train, X_train_OLS)\n",
    "est2 = est.fit()\n",
    "print(est2.summary())\n"
   ]
  },
  {
   "cell_type": "code",
   "execution_count": 294,
   "metadata": {},
   "outputs": [
    {
     "data": {
      "text/html": [
       "<div>\n",
       "<style scoped>\n",
       "    .dataframe tbody tr th:only-of-type {\n",
       "        vertical-align: middle;\n",
       "    }\n",
       "\n",
       "    .dataframe tbody tr th {\n",
       "        vertical-align: top;\n",
       "    }\n",
       "\n",
       "    .dataframe thead th {\n",
       "        text-align: right;\n",
       "    }\n",
       "</style>\n",
       "<table border=\"1\" class=\"dataframe\">\n",
       "  <thead>\n",
       "    <tr style=\"text-align: right;\">\n",
       "      <th></th>\n",
       "      <th>0</th>\n",
       "    </tr>\n",
       "  </thead>\n",
       "  <tbody>\n",
       "    <tr>\n",
       "      <th>count</th>\n",
       "      <td>1.961040e+05</td>\n",
       "    </tr>\n",
       "    <tr>\n",
       "      <th>mean</th>\n",
       "      <td>7.111987e+05</td>\n",
       "    </tr>\n",
       "    <tr>\n",
       "      <th>std</th>\n",
       "      <td>3.147457e+05</td>\n",
       "    </tr>\n",
       "    <tr>\n",
       "      <th>min</th>\n",
       "      <td>8.068345e+04</td>\n",
       "    </tr>\n",
       "    <tr>\n",
       "      <th>25%</th>\n",
       "      <td>5.190966e+05</td>\n",
       "    </tr>\n",
       "    <tr>\n",
       "      <th>50%</th>\n",
       "      <td>6.365677e+05</td>\n",
       "    </tr>\n",
       "    <tr>\n",
       "      <th>75%</th>\n",
       "      <td>8.122536e+05</td>\n",
       "    </tr>\n",
       "    <tr>\n",
       "      <th>max</th>\n",
       "      <td>1.750718e+07</td>\n",
       "    </tr>\n",
       "  </tbody>\n",
       "</table>\n",
       "</div>"
      ],
      "text/plain": [
       "                  0\n",
       "count  1.961040e+05\n",
       "mean   7.111987e+05\n",
       "std    3.147457e+05\n",
       "min    8.068345e+04\n",
       "25%    5.190966e+05\n",
       "50%    6.365677e+05\n",
       "75%    8.122536e+05\n",
       "max    1.750718e+07"
      ]
     },
     "execution_count": 294,
     "metadata": {},
     "output_type": "execute_result"
    }
   ],
   "source": []
  },
  {
   "cell_type": "code",
   "execution_count": 184,
   "metadata": {},
   "outputs": [
    {
     "data": {
      "text/plain": [
       "121002.5"
      ]
     },
     "execution_count": 184,
     "metadata": {},
     "output_type": "execute_result"
    }
   ],
   "source": [
    "6.050125e+04*2+ (-1.030274e+05*0)"
   ]
  },
  {
   "cell_type": "code",
   "execution_count": 83,
   "metadata": {},
   "outputs": [
    {
     "name": "stdout",
     "output_type": "stream",
     "text": [
      "['q', 'w']\n"
     ]
    }
   ],
   "source": [
    "a = ['q']\n",
    "b = ['w']\n",
    "c = a+b\n",
    "print(c)"
   ]
  },
  {
   "cell_type": "code",
   "execution_count": null,
   "metadata": {},
   "outputs": [],
   "source": []
  }
 ],
 "metadata": {
  "kernelspec": {
   "display_name": "Python 3",
   "language": "python",
   "name": "python3"
  },
  "language_info": {
   "codemirror_mode": {
    "name": "ipython",
    "version": 3
   },
   "file_extension": ".py",
   "mimetype": "text/x-python",
   "name": "python",
   "nbconvert_exporter": "python",
   "pygments_lexer": "ipython3",
   "version": "3.6.4"
  }
 },
 "nbformat": 4,
 "nbformat_minor": 2
}
