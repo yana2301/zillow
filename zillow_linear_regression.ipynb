{
 "cells": [
  {
   "cell_type": "code",
   "execution_count": 342,
   "metadata": {},
   "outputs": [],
   "source": [
    "import pandas as pd\n",
    "import numpy as np\n",
    "from sklearn import linear_model\n",
    "import matplotlib.pyplot as plt\n",
    "import statsmodels.api as sm\n",
    "from scipy import stats\n"
   ]
  },
  {
   "cell_type": "code",
   "execution_count": 343,
   "metadata": {},
   "outputs": [
    {
     "name": "stderr",
     "output_type": "stream",
     "text": [
      "C:\\Users\\Iana_Bondarska\\AppData\\Local\\Continuum\\anaconda3\\lib\\site-packages\\IPython\\core\\interactiveshell.py:2728: DtypeWarning: Columns (22) have mixed types. Specify dtype option on import or set low_memory=False.\n",
      "  interactivity=interactivity, compiler=compiler, result=result)\n"
     ]
    }
   ],
   "source": [
    "# load and clean data\n",
    "df = pd.read_csv('properties_short.csv')\n",
    "df = df[(df['yearbuilt'].notnull()\n",
    "        & (df['regionidcity'].notnull())\n",
    "        & (df['regionidcity'].notnull())\n",
    "        & (df['taxvaluedollarcnt'].notnull()))]\n",
    "         "
   ]
  },
  {
   "cell_type": "code",
   "execution_count": 344,
   "metadata": {},
   "outputs": [],
   "source": [
    "# fill na values for some features\n",
    "df['calculatedbathnbr'].fillna(1, inplace = True)\n",
    "\n",
    "df['poolcnt'].fillna(0, inplace = True)\n",
    "\n",
    "df['fireplacecnt'].fillna(0, inplace = True)\n",
    "\n",
    "df['garagecarcnt'].fillna(0, inplace = True)\n",
    "\n",
    "df['garagetotalsqft'].fillna(0, inplace = True)\n",
    "\n",
    "df['poolsizesum'].fillna(0, inplace = True)\n",
    "\n",
    "df['roomcnt'].fillna(1, inplace = True)\n",
    "\n",
    "df['finishedsquarefeet12'].fillna(0, inplace = True)\n",
    "\n",
    "df['yardbuildingsqft17'].fillna(0, inplace = True)\n",
    "\n",
    "df['calculatedfinishedsquarefeet'].fillna(0, inplace = True)\n",
    "df['age'] = 2018 - df['yearbuilt']\n",
    "df = df[df['assessmentyear']==2016]\n",
    "df.replace({'heatingorsystemtypeid':{2.0: 'central', 7.0:'floor_wall', 20.0: 'solar'}}, inplace=True)"
   ]
  },
  {
   "cell_type": "code",
   "execution_count": 345,
   "metadata": {},
   "outputs": [],
   "source": [
    "# select predictors \n",
    "predictor_properties = ['calculatedbathnbr','garagecarcnt', 'poolcnt',  'roomcnt','age','heatingorsystemtypeid']\n",
    "predictors = df[predictor_properties]\n",
    "estimated_price = df[['taxvaluedollarcnt']]"
   ]
  },
  {
   "cell_type": "code",
   "execution_count": 346,
   "metadata": {},
   "outputs": [],
   "source": [
    "# create categorical variables\n",
    "predictors = pd.get_dummies(predictors, columns =['heatingorsystemtypeid'])"
   ]
  },
  {
   "cell_type": "code",
   "execution_count": 347,
   "metadata": {},
   "outputs": [],
   "source": [
    "#create linear regression\n",
    "from sklearn.model_selection import train_test_split\n",
    "X_train, X_test,y_train, y_test = train_test_split(predictors, estimated_price)"
   ]
  },
  {
   "cell_type": "code",
   "execution_count": 348,
   "metadata": {},
   "outputs": [
    {
     "name": "stdout",
     "output_type": "stream",
     "text": [
      "                            OLS Regression Results                            \n",
      "==============================================================================\n",
      "Dep. Variable:      taxvaluedollarcnt   R-squared:                       0.249\n",
      "Model:                            OLS   Adj. R-squared:                  0.249\n",
      "Method:                 Least Squares   F-statistic:                     6952.\n",
      "Date:                Tue, 27 Feb 2018   Prob (F-statistic):               0.00\n",
      "Time:                        15:19:24   Log-Likelihood:            -2.1239e+06\n",
      "No. Observations:              147078   AIC:                         4.248e+06\n",
      "Df Residuals:                  147070   BIC:                         4.248e+06\n",
      "Df Model:                           7                                         \n",
      "Covariance Type:            nonrobust                                         \n",
      "====================================================================================================\n",
      "                                       coef    std err          t      P>|t|      [0.025      0.975]\n",
      "----------------------------------------------------------------------------------------------------\n",
      "const                            -2.176e+14   2.04e+15     -0.107      0.915   -4.22e+15    3.78e+15\n",
      "calculatedbathnbr                 2.651e+05   1379.151    192.241      0.000    2.62e+05    2.68e+05\n",
      "garagecarcnt                      3.535e+04   2.26e+05      0.156      0.876   -4.08e+05    4.78e+05\n",
      "poolcnt                           1.232e+05   3018.821     40.811      0.000    1.17e+05    1.29e+05\n",
      "roomcnt                           1.006e+08   9.43e+08      0.107      0.915   -1.75e+09    1.95e+09\n",
      "age                               2600.5864     63.578     40.904      0.000    2475.975    2725.198\n",
      "heatingorsystemtypeid_central     2.176e+14   2.04e+15      0.107      0.915   -3.78e+15    4.22e+15\n",
      "heatingorsystemtypeid_floor_wall  2.176e+14   2.04e+15      0.107      0.915   -3.78e+15    4.22e+15\n",
      "heatingorsystemtypeid_solar       2.176e+14   2.04e+15      0.107      0.915   -3.78e+15    4.22e+15\n",
      "==============================================================================\n",
      "Omnibus:                   253586.195   Durbin-Watson:                   1.999\n",
      "Prob(Omnibus):                  0.000   Jarque-Bera (JB):       1041195122.691\n",
      "Skew:                          11.506   Prob(JB):                         0.00\n",
      "Kurtosis:                     414.548   Cond. No.                     2.38e+18\n",
      "==============================================================================\n",
      "\n",
      "Warnings:\n",
      "[1] Standard Errors assume that the covariance matrix of the errors is correctly specified.\n",
      "[2] The smallest eigenvalue is 1.01e-28. This might indicate that there are\n",
      "strong multicollinearity problems or that the design matrix is singular.\n"
     ]
    }
   ],
   "source": [
    "X_train_OLS = sm.add_constant(X_train)\n",
    "est = sm.OLS(y_train, X_train_OLS)\n",
    "est2 = est.fit()\n",
    "print(est2.summary())\n"
   ]
  },
  {
   "cell_type": "code",
   "execution_count": 304,
   "metadata": {},
   "outputs": [
    {
     "name": "stdout",
     "output_type": "stream",
     "text": [
      "                            OLS Regression Results                            \n",
      "==============================================================================\n",
      "Dep. Variable:      taxvaluedollarcnt   R-squared:                       0.363\n",
      "Model:                            OLS   Adj. R-squared:                  0.363\n",
      "Method:                 Least Squares   F-statistic:                     4664.\n",
      "Date:                Tue, 27 Feb 2018   Prob (F-statistic):               0.00\n",
      "Time:                        15:10:03   Log-Likelihood:            -7.0333e+05\n",
      "No. Observations:               49026   AIC:                         1.407e+06\n",
      "Df Residuals:                   49019   BIC:                         1.407e+06\n",
      "Df Model:                           6                                         \n",
      "Covariance Type:            nonrobust                                         \n",
      "====================================================================================================\n",
      "                                       coef    std err          t      P>|t|      [0.025      0.975]\n",
      "----------------------------------------------------------------------------------------------------\n",
      "const                            -2.943e+05   8366.845    -35.172      0.000   -3.11e+05   -2.78e+05\n",
      "calculatedbathnbr                 4.001e+04   3400.840     11.765      0.000    3.33e+04    4.67e+04\n",
      "calculatedfinishedsquarefeet       314.8904      3.586     87.801      0.000     307.861     321.920\n",
      "garagecarcnt                     -9.265e-11   9.62e-12     -9.630      0.000   -1.12e-10   -7.38e-11\n",
      "poolcnt                           7.693e+04   4779.090     16.097      0.000    6.76e+04    8.63e+04\n",
      "age                               1050.4533    101.859     10.313      0.000     850.809    1250.098\n",
      "heatingorsystemtypeid_floor_wall  7880.4758   5026.763      1.568      0.117   -1972.042    1.77e+04\n",
      "heatingorsystemtypeid_solar        -8.2e+04      5e+04     -1.641      0.101    -1.8e+05    1.59e+04\n",
      "==============================================================================\n",
      "Omnibus:                    78184.321   Durbin-Watson:                   1.991\n",
      "Prob(Omnibus):                  0.000   Jarque-Bera (JB):        176027987.214\n",
      "Skew:                           9.876   Prob(JB):                         0.00\n",
      "Kurtosis:                     295.886   Cond. No.                     3.74e+21\n",
      "==============================================================================\n",
      "\n",
      "Warnings:\n",
      "[1] Standard Errors assume that the covariance matrix of the errors is correctly specified.\n",
      "[2] The smallest eigenvalue is 1.31e-32. This might indicate that there are\n",
      "strong multicollinearity problems or that the design matrix is singular.\n"
     ]
    }
   ],
   "source": [
    "# calculate residuals\n",
    "X2 = sm.add_constant(X_test)\n",
    "est = sm.OLS(y_test, X2)\n",
    "est2 = est.fit()\n",
    "print(est2.summary())"
   ]
  },
  {
   "cell_type": "code",
   "execution_count": 294,
   "metadata": {},
   "outputs": [
    {
     "data": {
      "text/html": [
       "<div>\n",
       "<style scoped>\n",
       "    .dataframe tbody tr th:only-of-type {\n",
       "        vertical-align: middle;\n",
       "    }\n",
       "\n",
       "    .dataframe tbody tr th {\n",
       "        vertical-align: top;\n",
       "    }\n",
       "\n",
       "    .dataframe thead th {\n",
       "        text-align: right;\n",
       "    }\n",
       "</style>\n",
       "<table border=\"1\" class=\"dataframe\">\n",
       "  <thead>\n",
       "    <tr style=\"text-align: right;\">\n",
       "      <th></th>\n",
       "      <th>0</th>\n",
       "    </tr>\n",
       "  </thead>\n",
       "  <tbody>\n",
       "    <tr>\n",
       "      <th>count</th>\n",
       "      <td>1.961040e+05</td>\n",
       "    </tr>\n",
       "    <tr>\n",
       "      <th>mean</th>\n",
       "      <td>7.111987e+05</td>\n",
       "    </tr>\n",
       "    <tr>\n",
       "      <th>std</th>\n",
       "      <td>3.147457e+05</td>\n",
       "    </tr>\n",
       "    <tr>\n",
       "      <th>min</th>\n",
       "      <td>8.068345e+04</td>\n",
       "    </tr>\n",
       "    <tr>\n",
       "      <th>25%</th>\n",
       "      <td>5.190966e+05</td>\n",
       "    </tr>\n",
       "    <tr>\n",
       "      <th>50%</th>\n",
       "      <td>6.365677e+05</td>\n",
       "    </tr>\n",
       "    <tr>\n",
       "      <th>75%</th>\n",
       "      <td>8.122536e+05</td>\n",
       "    </tr>\n",
       "    <tr>\n",
       "      <th>max</th>\n",
       "      <td>1.750718e+07</td>\n",
       "    </tr>\n",
       "  </tbody>\n",
       "</table>\n",
       "</div>"
      ],
      "text/plain": [
       "                  0\n",
       "count  1.961040e+05\n",
       "mean   7.111987e+05\n",
       "std    3.147457e+05\n",
       "min    8.068345e+04\n",
       "25%    5.190966e+05\n",
       "50%    6.365677e+05\n",
       "75%    8.122536e+05\n",
       "max    1.750718e+07"
      ]
     },
     "execution_count": 294,
     "metadata": {},
     "output_type": "execute_result"
    }
   ],
   "source": []
  },
  {
   "cell_type": "code",
   "execution_count": 184,
   "metadata": {},
   "outputs": [
    {
     "data": {
      "text/plain": [
       "121002.5"
      ]
     },
     "execution_count": 184,
     "metadata": {},
     "output_type": "execute_result"
    }
   ],
   "source": [
    "6.050125e+04*2+ (-1.030274e+05*0)"
   ]
  },
  {
   "cell_type": "code",
   "execution_count": null,
   "metadata": {},
   "outputs": [],
   "source": []
  }
 ],
 "metadata": {
  "kernelspec": {
   "display_name": "Python 3",
   "language": "python",
   "name": "python3"
  },
  "language_info": {
   "codemirror_mode": {
    "name": "ipython",
    "version": 3
   },
   "file_extension": ".py",
   "mimetype": "text/x-python",
   "name": "python",
   "nbconvert_exporter": "python",
   "pygments_lexer": "ipython3",
   "version": "3.6.4"
  }
 },
 "nbformat": 4,
 "nbformat_minor": 2
}
