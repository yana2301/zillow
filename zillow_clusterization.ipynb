{
 "cells": [
  {
   "cell_type": "code",
   "execution_count": 12,
   "metadata": {},
   "outputs": [],
   "source": [
    "import pandas as pd\n",
    "import numpy as np\n",
    "from sklearn import linear_model\n",
    "import matplotlib.pyplot as plt\n",
    "import statsmodels.api as sm\n",
    "from scipy import stats\n",
    "from sklearn.cluster import KMeans\n"
   ]
  },
  {
   "cell_type": "code",
   "execution_count": 13,
   "metadata": {},
   "outputs": [
    {
     "name": "stderr",
     "output_type": "stream",
     "text": [
      "C:\\Users\\Iana_Bondarska\\AppData\\Local\\Continuum\\anaconda3\\lib\\site-packages\\IPython\\core\\interactiveshell.py:2728: DtypeWarning: Columns (22) have mixed types. Specify dtype option on import or set low_memory=False.\n",
      "  interactivity=interactivity, compiler=compiler, result=result)\n"
     ]
    }
   ],
   "source": [
    "# load and clean data\n",
    "df = pd.read_csv('properties_short.csv')\n",
    "df = df[(df['yearbuilt'].notnull()\n",
    "        & (df['regionidcity'].notnull())\n",
    "        & (df['regionidcity'].notnull())\n",
    "        & (df['taxvaluedollarcnt'].notnull()))]\n",
    "         "
   ]
  },
  {
   "cell_type": "code",
   "execution_count": 14,
   "metadata": {},
   "outputs": [],
   "source": [
    "# fill na values for some features\n",
    "df['calculatedbathnbr'].fillna(1, inplace = True)\n",
    "\n",
    "df['poolcnt'].fillna(0, inplace = True)\n",
    "\n",
    "df['fireplacecnt'].fillna(0, inplace = True)\n",
    "\n",
    "df['garagecarcnt'].fillna(0, inplace = True)\n",
    "\n",
    "df['garagetotalsqft'].fillna(0, inplace = True)\n",
    "\n",
    "df['poolsizesum'].fillna(0, inplace = True)\n",
    "\n",
    "df['roomcnt'].fillna(1, inplace = True)\n",
    "\n",
    "df['finishedsquarefeet12'].fillna(0, inplace = True)\n",
    "\n",
    "df['yardbuildingsqft17'].fillna(0, inplace = True)\n",
    "\n",
    "df['calculatedfinishedsquarefeet'].fillna(0, inplace = True)\n",
    "df['age'] = 2018 - df['yearbuilt']\n",
    "df = df[df['assessmentyear']==2016]\n",
    "df.replace({'heatingorsystemtypeid':{2.0: 'central', 7.0:'floor_wall', 20.0: 'solar'}}, inplace=True)"
   ]
  },
  {
   "cell_type": "code",
   "execution_count": 15,
   "metadata": {},
   "outputs": [],
   "source": [
    "# select predictors \n",
    "predictor_properties = ['calculatedbathnbr','garagecarcnt', 'poolcnt',  'roomcnt','age','heatingorsystemtypeid', 'taxvaluedollarcnt']\n",
    "predictors = df[predictor_properties]\n"
   ]
  },
  {
   "cell_type": "code",
   "execution_count": 16,
   "metadata": {},
   "outputs": [],
   "source": [
    "# create categorical variables\n",
    "predictors = pd.get_dummies(predictors, columns =['heatingorsystemtypeid'])"
   ]
  },
  {
   "cell_type": "code",
   "execution_count": 27,
   "metadata": {},
   "outputs": [
    {
     "data": {
      "text/plain": [
       "1    177799\n",
       "0     17350\n",
       "2       955\n",
       "Name: 0, dtype: int64"
      ]
     },
     "execution_count": 27,
     "metadata": {},
     "output_type": "execute_result"
    }
   ],
   "source": [
    "# KMeans clusterization\n",
    "estimator = KMeans(3)\n",
    "estimator.fit(predictors)\n",
    "labels_df = pd.DataFrame(estimator.labels_)\n",
    "labels_df[0].value_counts()\n"
   ]
  },
  {
   "cell_type": "code",
   "execution_count": null,
   "metadata": {},
   "outputs": [],
   "source": []
  }
 ],
 "metadata": {
  "kernelspec": {
   "display_name": "Python 3",
   "language": "python",
   "name": "python3"
  },
  "language_info": {
   "codemirror_mode": {
    "name": "ipython",
    "version": 3
   },
   "file_extension": ".py",
   "mimetype": "text/x-python",
   "name": "python",
   "nbconvert_exporter": "python",
   "pygments_lexer": "ipython3",
   "version": "3.6.4"
  }
 },
 "nbformat": 4,
 "nbformat_minor": 2
}
