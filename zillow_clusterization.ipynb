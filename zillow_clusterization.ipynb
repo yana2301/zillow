{
 "cells": [
  {
   "cell_type": "code",
   "execution_count": 1,
   "metadata": {},
   "outputs": [
    {
     "name": "stderr",
     "output_type": "stream",
     "text": [
      "C:\\Users\\Iana_Bondarska\\AppData\\Local\\Continuum\\anaconda3\\lib\\site-packages\\statsmodels\\compat\\pandas.py:56: FutureWarning: The pandas.core.datetools module is deprecated and will be removed in a future version. Please use the pandas.tseries module instead.\n",
      "  from pandas.core import datetools\n"
     ]
    }
   ],
   "source": [
    "import pandas as pd\n",
    "import numpy as np\n",
    "from sklearn import linear_model\n",
    "import matplotlib.pyplot as plt\n",
    "import statsmodels.api as sm\n",
    "from scipy import stats\n",
    "from sklearn.cluster import KMeans\n"
   ]
  },
  {
   "cell_type": "code",
   "execution_count": 2,
   "metadata": {},
   "outputs": [
    {
     "name": "stderr",
     "output_type": "stream",
     "text": [
      "C:\\Users\\Iana_Bondarska\\AppData\\Local\\Continuum\\anaconda3\\lib\\site-packages\\IPython\\core\\interactiveshell.py:2728: DtypeWarning: Columns (22) have mixed types. Specify dtype option on import or set low_memory=False.\n",
      "  interactivity=interactivity, compiler=compiler, result=result)\n"
     ]
    }
   ],
   "source": [
    "# load and clean data\n",
    "df = pd.read_csv('properties_short.csv')\n",
    "df = df[(df['yearbuilt'].notnull()\n",
    "        & (df['regionidcity'].notnull())\n",
    "        & (df['regionidcity'].notnull())\n",
    "        & (df['taxvaluedollarcnt'].notnull()))]\n",
    "         "
   ]
  },
  {
   "cell_type": "code",
   "execution_count": 3,
   "metadata": {},
   "outputs": [],
   "source": [
    "# fill na values for some features\n",
    "df['calculatedbathnbr'].fillna(1, inplace = True)\n",
    "\n",
    "df['poolcnt'].fillna(0, inplace = True)\n",
    "\n",
    "df['fireplacecnt'].fillna(0, inplace = True)\n",
    "\n",
    "df['garagecarcnt'].fillna(0, inplace = True)\n",
    "\n",
    "df['garagetotalsqft'].fillna(0, inplace = True)\n",
    "\n",
    "df['poolsizesum'].fillna(0, inplace = True)\n",
    "\n",
    "df['roomcnt'].fillna(1, inplace = True)\n",
    "\n",
    "df['finishedsquarefeet12'].fillna(0, inplace = True)\n",
    "\n",
    "df['yardbuildingsqft17'].fillna(0, inplace = True)\n",
    "\n",
    "df['calculatedfinishedsquarefeet'].fillna(0, inplace = True)\n",
    "df['age'] = 2018 - df['yearbuilt']\n",
    "df = df[df['assessmentyear']==2016]\n",
    "df.replace({'heatingorsystemtypeid':{2.0: 'central', 7.0:'floor_wall', 20.0: 'solar'}}, inplace=True)"
   ]
  },
  {
   "cell_type": "code",
   "execution_count": 4,
   "metadata": {},
   "outputs": [],
   "source": [
    "# select predictors \n",
    "predictor_properties = ['calculatedbathnbr','garagecarcnt', 'poolcnt',  'roomcnt','age','heatingorsystemtypeid', 'taxvaluedollarcnt']\n",
    "predictors = df[predictor_properties]\n"
   ]
  },
  {
   "cell_type": "code",
   "execution_count": 5,
   "metadata": {},
   "outputs": [],
   "source": [
    "# create categorical variables\n",
    "predictors = pd.get_dummies(predictors, columns =['heatingorsystemtypeid'])"
   ]
  },
  {
   "cell_type": "code",
   "execution_count": 19,
   "metadata": {},
   "outputs": [
    {
     "name": "stdout",
     "output_type": "stream",
     "text": [
      "[5.580162842797962e+16, 2.9156650684963092e+16, 1.8030720690523624e+16, 1.1652441363176416e+16, 8235305987684915.0, 5987570567700838.0, 4388290240956098.5]\n"
     ]
    },
    {
     "data": {
      "text/plain": [
       "[<matplotlib.lines.Line2D at 0x2ba5576bd68>]"
      ]
     },
     "execution_count": 19,
     "metadata": {},
     "output_type": "execute_result"
    },
    {
     "data": {
      "image/png": "[encoded data removed]",
      "text/plain": [
       "<matplotlib.figure.Figure at 0x2ba5568ec88>"
      ]
     },
     "metadata": {},
     "output_type": "display_data"
    }
   ],
   "source": [
    "# KMeans clusterization\n",
    "inertia_vals = []\n",
    "for i in range(1, 8):\n",
    "    estimator = KMeans(i)\n",
    "    estimator.fit(predictors)\n",
    "    inertia_vals.append(estimator.inertia_)\n",
    "\n",
    "print(inertia_vals)    \n",
    "plt.plot(range(1,8), inertia_vals)\n"
   ]
  },
  {
   "cell_type": "code",
   "execution_count": 22,
   "metadata": {},
   "outputs": [
    {
     "name": "stdout",
     "output_type": "stream",
     "text": [
      "-1    1\n",
      "Name: 0, dtype: int64\n"
     ]
    }
   ],
   "source": [
    "#DBSCAN\n",
    "from sklearn.cluster import DBSCAN\n",
    "\n",
    "db = DBSCAN(eps=0.3, min_samples=10).fit(predictors)\n",
    "print(pd.DataFrame(db.labels_).iloc[0].value_counts())"
   ]
  },
  {
   "cell_type": "code",
   "execution_count": null,
   "metadata": {},
   "outputs": [],
   "source": []
  }
 ],
 "metadata": {
  "kernelspec": {
   "display_name": "Python 3",
   "language": "python",
   "name": "python3"
  },
  "language_info": {
   "codemirror_mode": {
    "name": "ipython",
    "version": 3
   },
   "file_extension": ".py",
   "mimetype": "text/x-python",
   "name": "python",
   "nbconvert_exporter": "python",
   "pygments_lexer": "ipython3",
   "version": "3.6.4"
  }
 },
 "nbformat": 4,
 "nbformat_minor": 2
}
